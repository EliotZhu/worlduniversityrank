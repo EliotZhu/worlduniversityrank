{
 "cells": [
  {
   "cell_type": "markdown",
   "source": [
    "# University Ranking Tracker\n",
    "This the primary notebook for scraping ranking data from QS, ARWU and TIMES world university and subject rankings.\n",
    "<br>\n",
    "**Author: Elliott Zhu**\n",
    "\n",
    "## Introduction\n",
    "\n",
    "This note book creates streamlined process to easily access and scrape university ranking data across three major ranking\n",
    "systems: Times Higher Education, ARWU and QS. It fully incorporates the dynamic web loading structure: Asynchronous JavaScript\n",
    " and XML (AJAX) to extract and compose the published data on corresponding websites. It further provides the accurate computed ranking\n",
    " positions given the published ranking methodologies.\n",
    "\n",
    "\n",
    "## Define Utility Function\n",
    "We use these functions to clean up html tags and get html tables."
   ],
   "metadata": {
    "collapsed": false
   }
  },
  {
   "cell_type": "code",
   "execution_count": 1,
   "outputs": [],
   "source": [
    "import json\n",
    "import requests\n",
    "import urllib\n",
    "from datetime import datetime\n",
    "from html.parser import HTMLParser\n",
    "from io import StringIO\n",
    "\n",
    "import numpy as np\n",
    "import pandas as pd\n",
    "from IPython.display import display  # used to print out pretty pandas dataframes\n",
    "from bs4 import BeautifulSoup\n",
    "from tqdm import tqdm\n",
    "\n",
    "def tableDataText(table):\n",
    "    \"\"\"Parses a html segment started with tag <table> followed\n",
    "    by multiple <tr> (table rows) and inner <td> (table data) tags.\n",
    "    It returns a list of rows with inner columns.\n",
    "    Accepts only one <th> (table header/data) in the first row.\n",
    "    \"\"\"\n",
    "    def rowgetDataText(tr, coltag='td'): # td (data) or th (header)\n",
    "        return [td.get_text(strip=True) for td in tr.find_all(coltag)]\n",
    "    rows = []\n",
    "    trs = table.find_all('tr')\n",
    "    headerow = rowgetDataText(trs[0], 'th')\n",
    "    if headerow: # if there is a header row include first\n",
    "        rows.append(headerow)\n",
    "        trs = trs[1:]\n",
    "    for tr in trs: # for every table row\n",
    "        rows.append(rowgetDataText(tr, 'td') ) # data row\n",
    "    return rows\n",
    "\n",
    "class MLStripper(HTMLParser):\n",
    "    def __init__(self):\n",
    "        super().__init__()\n",
    "        self.reset()\n",
    "        self.strict = False\n",
    "        self.convert_charrefs= True\n",
    "        self.text = StringIO()\n",
    "    def handle_data(self, d):\n",
    "        self.text.write(d)\n",
    "    def get_data(self):\n",
    "        return self.text.getvalue()\n",
    "\n",
    "def strip_tags(html):\n",
    "    try:\n",
    "        s = MLStripper()\n",
    "        s.feed(html)\n",
    "        return s.get_data()\n",
    "    except:\n",
    "        return ''"
   ],
   "metadata": {
    "collapsed": false,
    "pycharm": {
     "name": "#%%\n"
    }
   }
  },
  {
   "cell_type": "code",
   "execution_count": null,
   "outputs": [],
   "source": [
    "#Load indicator weightings\n",
    "weightings = np.load('weightings.npy', allow_pickle=True).tolist()\n",
    "print('\\n === Times Higher Education Subjects (Top 5)  ===')\n",
    "display(weightings['subject_times'].head(5))"
   ],
   "metadata": {
    "collapsed": false,
    "pycharm": {
     "name": "#%%\n"
    }
   }
  },
  {
   "cell_type": "code",
   "execution_count": null,
   "outputs": [],
   "source": [
    "print('\\n === Times Higher Education Weightings (Top 5) ===')\n",
    "display(weightings['weightings_times'].head(5))"
   ],
   "metadata": {
    "collapsed": false,
    "pycharm": {
     "name": "#%%\n"
    }
   }
  },
  {
   "cell_type": "code",
   "execution_count": null,
   "outputs": [],
   "source": [
    "print('\\n === ARWU Subjects (Top 5) ===')\n",
    "display(weightings['subject_arwu'].head(5))"
   ],
   "metadata": {
    "collapsed": false,
    "pycharm": {
     "name": "#%%\n"
    }
   }
  },
  {
   "cell_type": "code",
   "execution_count": null,
   "outputs": [],
   "source": [
    "print('\\n === ARWU Weightings (Top 5) ===')\n",
    "display(weightings['weightings_arwu'].head(5))"
   ],
   "metadata": {
    "collapsed": false,
    "pycharm": {
     "name": "#%%\n"
    }
   }
  },
  {
   "cell_type": "code",
   "execution_count": null,
   "outputs": [],
   "source": [
    "print('\\n === QS Weightings (Top 5) ===')\n",
    "display(weightings['weightings_qs'].head(5))"
   ],
   "metadata": {
    "collapsed": false,
    "pycharm": {
     "name": "#%%\n"
    }
   }
  },
  {
   "cell_type": "markdown",
   "source": [
    "# Times Higher Education\n",
    "\n",
    "The AJAX logic of [Times Higher Education](http://timeshighereducation.com) is simple and consistent across both the world university ranking and subject\n",
    "rankings. The current logic works for data ranging from 2011 to 2021. Apply the indicator weighting according to\n",
    "[Times Higher Education Methodology](https://www.timeshighereducation.com/world-university-rankings/world-university-rankings-2020-methodology)"
   ],
   "metadata": {
    "collapsed": false
   }
  },
  {
   "cell_type": "code",
   "execution_count": null,
   "outputs": [],
   "source": [
    "#Define times scraping function\n",
    "def fetch_TIMES(rank=None, year=None, weightings=weightings['weightings_times'],page =weightings['subject_times'] ):\n",
    "        if 'Subject' in rank:\n",
    "            page = page[page.Subject == rank].Page.reset_index(drop=True)[0]\n",
    "            url1 = \"https://www.timeshighereducation.com/world-university-rankings/\" + str(\n",
    "                year) + \"/subject-ranking/\" + page\n",
    "        else:\n",
    "            url1 = \"https://www.timeshighereducation.com/world-university-rankings/\" + str(year) + \"/world-ranking\"\n",
    "        r = requests.get(url1, headers={'User-Agent': 'Mozilla/5.0'})\n",
    "        soup = BeautifulSoup(r.content, \"lxml\")\n",
    "        scripts = soup.find_all('script')\n",
    "        for script in scripts:\n",
    "            try:\n",
    "                if 'jQuery.extend' in script.contents[0]:\n",
    "                    jsonStr = script.contents[0].split('jQuery.extend(Drupal.settings,')[1]\n",
    "                    jsonStr = jsonStr.rsplit(');', 1)[0]\n",
    "                    jsonObj = json.loads(jsonStr)\n",
    "                    url1 = jsonObj['the_data_rankings']['#datatable-1']['ajax']['url']\n",
    "            except:\n",
    "                pass\n",
    "\n",
    "        req = urllib.request.Request(url1, headers={'User-Agent': 'Mozilla/5.0'})\n",
    "        with urllib.request.urlopen(req) as url:\n",
    "            data = json.loads(url.read().decode())\n",
    "        df = pd.DataFrame(data['data'])\n",
    "        try:\n",
    "            df = df[['rank', 'name', 'scores_overall',\n",
    "                     'scores_teaching', 'scores_research', 'scores_citations',\n",
    "                     'scores_industry_income', 'scores_international_outlook',\n",
    "                     'location', 'stats_number_students', 'stats_student_staff_ratio',\n",
    "                     'stats_pc_intl_students', 'stats_female_male_ratio']]\n",
    "            df.columns = ['Rank', 'University', 'TotalScore',\n",
    "                          'Teaching', 'Research', 'Citation',\n",
    "                          'Industry Income', 'International Outlook',\n",
    "                          'Country', 'Student Count', 'Faculty/Student',\n",
    "                          'International Student%', 'Female/Male']\n",
    "        except:\n",
    "            df = df[['rank', 'name', 'scores_overall',\n",
    "                     'scores_teaching', 'scores_research', 'scores_citations',\n",
    "                     'scores_industry_income', 'scores_international_outlook',\n",
    "                     'location']]\n",
    "            df.columns = ['Rank', 'University', 'TotalScore',\n",
    "                          'Teaching', 'Research', 'Citation',\n",
    "                          'Industry Income', 'International Outlook',\n",
    "                          'Country']\n",
    "\n",
    "        weightings = weightings[weightings.Subjects == rank].reset_index(drop=True)\n",
    "\n",
    "        df = df.replace('-', 0, regex=True)\n",
    "\n",
    "        df[['Teaching', 'Research', 'Citation', 'Industry Income', 'International Outlook']] = \\\n",
    "            df[['Teaching', 'Research', 'Citation', 'Industry Income', 'International Outlook']].astype('float32')\n",
    "\n",
    "        df['Calculated Score'] = np.sum(\n",
    "            np.multiply(df[['Teaching', 'Research', 'Citation', 'Industry Income', 'International Outlook']],\n",
    "                        weightings[['Teaching', 'Research', 'Citation', 'Industry Income', 'International Outlook']]),\n",
    "            1)\n",
    "\n",
    "        df['Calculated Rank'] = df['Calculated Score'].rank(method='min', ascending=False)\n",
    "        df['Subject'] = rank.replace('.', ' ')\n",
    "        try:\n",
    "            df['Subject'] = df['Subject'].str.replace('Subject', '')\n",
    "        except:\n",
    "            pass\n",
    "\n",
    "        df['National Rank'] = df.groupby('Country')['Calculated Score'].rank(method='min', ascending=False)\n",
    "        df['Top 100'] = df['Calculated Rank'] <= 100\n",
    "        df['Year'] = year\n",
    "\n",
    "        return df\n",
    "\n",
    "def TIMES_rank(years=[2021], ranks=['World.University.Rankings','Classics.Ancient.History']):\n",
    "\n",
    "    df_TIMES = pd.DataFrame()\n",
    "    for year in tqdm(years):\n",
    "        for rank in ranks:\n",
    "            try:\n",
    "                df_TIMES = pd.concat([df_TIMES,fetch_TIMES(rank=rank, year=year)], axis=0, ignore_index=True)\n",
    "            except:\n",
    "                print(year,rank)\n",
    "    df_TIMES['Schema'] = 'TIMES'\n",
    "\n",
    "    return df_TIMES\n",
    "\n",
    "years = [2021]\n",
    "ranks = ['World.University.Rankings']\n",
    "df_TIMES = TIMES_rank(years, ranks)\n",
    "print('\\n === Times Higher Education ===')\n",
    "display(df_TIMES.head(5))"
   ],
   "metadata": {
    "collapsed": false,
    "pycharm": {
     "name": "#%%\n"
    }
   }
  },
  {
   "cell_type": "code",
   "execution_count": null,
   "outputs": [],
   "source": [
    "print('\\n === Times Higher Education Law ===')\n",
    "\n",
    "years = [2020]\n",
    "ranks = ['Subject.Law']\n",
    "df_TIMES = TIMES_rank(years, ranks)\n",
    "display(df_TIMES.head(5))\n"
   ],
   "metadata": {
    "collapsed": false,
    "pycharm": {
     "name": "#%%\n"
    }
   }
  },
  {
   "cell_type": "markdown",
   "metadata": {},
   "source": [
    "## ARWU World University Rankings\n",
    "We extract [ARWU](http://www.shanghairanking.com) or the Shanghai Ranking via the table tag, as all required data are available these tags.\n",
    "The tricky part would be to apply the weightings to each subject and adjustment to non-comprehensive university such as LSE.\n",
    "Please refer to the [methodology](http://www.shanghairanking.com/ARWU-Methodology-2020.html)."
   ]
  },
  {
   "cell_type": "code",
   "execution_count": 34,
   "metadata": {},
   "outputs": [],
   "source": [
    "#Define ARWU subject and worling rank scraping function\n",
    "def fetch_ARWU_subject(ARWU_subject, subject= \"Mathematics\", year = \"current\"):\n",
    "    \"\"\"Scrape ARWU Subject Page\n",
    "    \"\"\"\n",
    "    if (year == \"current\"):\n",
    "        url1 = \"http://www.shanghairanking.com/Shanghairanking-Subject-Rankings/\"\n",
    "    else:\n",
    "        url1 = \"http://www.shanghairanking.com/Shanghairanking-Subject\"+ \"-Rankings-\"+ str(year)+\"/\"\n",
    "    subject_page = ARWU_subject[ARWU_subject.Subject==subject].Page.reset_index(drop=True)[0]\n",
    "    url_subject = url1+subject_page\n",
    "    r = requests.get(url_subject)\n",
    "    soup = BeautifulSoup(r.content, \"html.parser\")\n",
    "    table = soup.find(lambda tag: tag.name == 'table' and tag.has_attr('id') and tag['id'] == \"UniversityRanking\")\n",
    "    list_table = tableDataText(table)\n",
    "    df = pd.DataFrame(list_table[1:])\n",
    "    if  year == \"current\":\n",
    "        df = df.drop(columns = 3)\n",
    "    df.columns = [\"Rank\", \"University\", \"Country\", \"TotalScore\", \"PUB\",\n",
    "                        \"CNCI\", \"IC\", \"TOP\", \"AWARD\"]\n",
    "    # Retrieve countries\n",
    "    countries = soup.find(lambda tag: tag.name == 'table' and tag.has_attr('id') and tag['id'] == \"UniversityRanking\")\n",
    "    countries = [td['title'] for td in countries.find_all('img')]\n",
    "    df.Country = countries\n",
    "\n",
    "    weightings = pd.read_csv('arwuweighting.csv')\n",
    "    weightings = weightings[weightings.Ranktype==subject].reset_index(drop=True)\n",
    "    df = df.replace('NA', 0, regex=True)\n",
    "    df[[\"PUB\", \"CNCI\", \"IC\", \"TOP\", \"AWARD\"]] =  df[[\"PUB\",\"CNCI\", \"IC\", \"TOP\", \"AWARD\"]].astype('float32')\n",
    "    df['Calculated Score'] = np.sum(np.multiply(df[[\"PUB\",\"CNCI\", \"IC\", \"TOP\", \"AWARD\"]],\n",
    "                             weightings[[\"PUB\",  \"Normalized Citation\",  \"IC\",  \"Number Top10\",  \"Award\"]]/100),1)\n",
    "\n",
    "    df['Calculated Rank'] = df['Calculated Score'].rank(method ='min',ascending = False)\n",
    "    df['Subject'] = subject\n",
    "    df['National Rank'] = df.groupby('Country')['Calculated Score'].rank(method ='min',ascending = False)\n",
    "    df['Top 100'] = df['Calculated Rank'] <= 100\n",
    "    if year == \"current\":\n",
    "        df['Year'] = datetime.now().date().year\n",
    "    else:\n",
    "        df['Year'] = year\n",
    "    return df\n",
    "\n",
    "def fetch_ARWU(year = None):\n",
    "    \"\"\"Scrape ARWU World University Ranking Page\n",
    "    \"\"\"\n",
    "    url1 = \"http://www.shanghairanking.com/ARWU\"+ str(year) + \".html\"\n",
    "\n",
    "    r = requests.get(url1)\n",
    "    soup = BeautifulSoup(r.content, \"html.parser\")\n",
    "    table = soup.find(lambda tag: tag.name == 'table' and tag.has_attr('id') and tag['id'] == \"UniversityRanking\")\n",
    "    list_table = tableDataText(table)\n",
    "    df = pd.DataFrame(list_table[1:])\n",
    "    df.columns = [\"Rank\", \"University\", \"Country\", \"National Rank\",\n",
    "\t\t\"TotalScore\", \"Alumni\", \"Award\", \"HiCi\", \"N&S\", \"PUB\",\n",
    "\t\t\"PCP\"]\n",
    "    # Retrieve countries\n",
    "    countries = soup.find(lambda tag: tag.name == 'table' and tag.has_attr('id') and tag['id'] == \"UniversityRanking\")\n",
    "    countries = [td['src'] for td in countries.find_all('img')]\n",
    "    df.Country = countries\n",
    "    df.Country  = df.Country.str.replace('image/flag/','')\n",
    "    df.Country  = df.Country.str.replace('.png','')\n",
    "\n",
    "\n",
    "    df = df.replace('NA', 0, regex=True)\n",
    "    df = df.replace('', -0.01, regex=True)\n",
    "    df[[ \"Alumni\", \"Award\", \"HiCi\", \"N&S\", \"PUB\",\"PCP\"]] =  df[[ \"Alumni\", \"Award\", \"HiCi\", \"N&S\", \"PUB\",\"PCP\"]].astype('float32')\n",
    "\n",
    "    df['Calculated Score'] = 1\n",
    "    df['Calculated Score'][df[\"N&S\"] == -0.01] = np.sum(np.multiply(df[df[\"N&S\"] == -0.01][[\"Alumni\", \"Award\", \"HiCi\", \"PUB\",\"PCP\"]],[0.1, 0.2, 0.2, 0.2, 0.1]),1)*1.25\n",
    "    df['Calculated Score'][df[\"N&S\"] != -0.01] = np.sum(np.multiply(df[df[\"N&S\"] != -0.01][[\"Alumni\", \"Award\", \"HiCi\",\"N&S\", \"PUB\",\"PCP\"]],[0.1, 0.2, 0.2, 0.2,0.2, 0.1]),1)\n",
    "    df['Calculated Score'] = df['Calculated Score'] * 100/np.max(df['Calculated Score'])\n",
    "\n",
    "    df['Calculated Rank'] = df['Calculated Score'].rank(method ='min',ascending = False)\n",
    "    df['Subject'] = 'World'\n",
    "    df['National Rank'] = df.groupby('Country')['Calculated Score'].rank(method ='min',ascending = False)\n",
    "    df['Top 100'] = df['Calculated Rank'] <= 100\n",
    "    df['Year'] = year\n",
    "\n",
    "    return df\n",
    "\n",
    "def ARWU_rank(years=[2020], first_x_subjects = 2):\n",
    "   '''first_x_subjects: get results for the first n subjects in ARWU subject list'''\n",
    "   df_ARWU =  pd.DataFrame()\n",
    "   for year in tqdm(years):\n",
    "       try:\n",
    "           df_ARWU = df_ARWU.append(fetch_ARWU(year = year))\n",
    "       except:\n",
    "           pass\n",
    "\n",
    "   df_ARWU['Schema'] = 'ARWU'\n",
    "\n",
    "   ARWU_subject =  weightings['subject_arwu']\n",
    "   df_ARWU_subject = pd.DataFrame()\n",
    "   for year in years:\n",
    "       if year == datetime.now().year:\n",
    "           year = \"current\"\n",
    "       for subject in tqdm(ARWU_subject.Subject[0:first_x_subjects]):\n",
    "           try:\n",
    "               df_ARWU_subject = df_ARWU_subject.append(fetch_ARWU_subject(ARWU_subject, subject= subject, year = year))\n",
    "           except:\n",
    "               pass\n",
    "\n",
    "   df_ARWU_subject['Schema'] = 'ARWU'\n",
    "   df_ARWU_subject.columns = ['Rank', 'University', 'Country', 'TotalScore', 'PUB', 'CNCI', 'IC',\n",
    "           'TOP', 'Award', 'Calculated Score', 'Calculated Rank', 'Subject',\n",
    "           'National Rank', 'Top 100', 'Year', 'Schema']\n",
    "\n",
    "\n",
    "   return df_ARWU, df_ARWU_subject"
   ]
  },
  {
   "cell_type": "code",
   "execution_count": 35,
   "outputs": [
    {
     "name": "stderr",
     "output_type": "stream",
     "text": [
      "  0%|          | 0/1 [00:00<?, ?it/s]/Users/jiezhu/.virtualenvs/globalenv/lib/python3.7/site-packages/ipykernel_launcher.py:68: SettingWithCopyWarning: \n",
      "A value is trying to be set on a copy of a slice from a DataFrame\n",
      "\n",
      "See the caveats in the documentation: https://pandas.pydata.org/pandas-docs/stable/user_guide/indexing.html#returning-a-view-versus-a-copy\n",
      "100%|██████████| 1/1 [00:04<00:00,  4.88s/it]\n",
      "100%|██████████| 2/2 [00:10<00:00,  5.26s/it]\n"
     ]
    },
    {
     "data": {
      "text/plain": "  Rank                                   University Country  National Rank  \\\n0    1                           Harvard University     USA            1.0   \n1    2                          Stanford University     USA            2.0   \n2    3                      University of Cambridge      UK            1.0   \n3    4  Massachusetts Institute of Technology (MIT)     USA            3.0   \n4    5           University of California, Berkeley     USA            4.0   \n5    6                         Princeton University     USA            5.0   \n6    7                          Columbia University     USA            6.0   \n7    8           California Institute of Technology     USA            7.0   \n8    9                         University of Oxford      UK            2.0   \n9   10                        University of Chicago     USA            8.0   \n\n  TotalScore      Alumni       Award        HiCi         N&S         PUB  \\\n0      100.0  100.000000  100.000000  100.000000  100.000000  100.000000   \n1       74.2   43.799999   86.599998   71.099998   79.500000   77.099998   \n2       70.6   79.500000   98.199997   50.000000   57.099998   72.000000   \n3       69.6   71.400002   85.099998   51.400002   69.800003   63.700001   \n4       65.8   64.900002   76.699997   53.299999   68.500000   63.400002   \n5       61.1   59.000000   97.900002   41.400002   49.900002   44.700001   \n6       58.6   59.500000   65.800003   48.000000   54.799999   72.300003   \n7       57.7   50.700001   69.099998   36.400002   57.900002   43.900002   \n8       57.2   48.900002   54.299999   46.400002   53.900002   78.900002   \n9       54.6   58.700001   88.199997   35.700001   41.299999   51.599998   \n\n          PCP  Calculated Score  Calculated Rank Subject  Top 100  Year Schema  \n0   79.300003        100.000000              1.0   World     True  2020   ARWU  \n1   53.799999         74.155007              2.0   World     True  2020   ARWU  \n2   57.500000         70.621872              3.0   World     True  2020   ARWU  \n3   69.699997         69.549679              4.0   World     True  2020   ARWU  \n4   56.000000         65.832737              5.0   World     True  2020   ARWU  \n5   71.800003         61.125295              6.0   World     True  2020   ARWU  \n6   32.900002         58.633719              7.0   World     True  2020   ARWU  \n7  100.000000         57.724906              8.0   World     True  2020   ARWU  \n8   43.700001         57.142858              9.0   World     True  2020   ARWU  \n9   43.000000         54.661492             10.0   World     True  2020   ARWU  ",
      "text/html": "<div>\n<style scoped>\n    .dataframe tbody tr th:only-of-type {\n        vertical-align: middle;\n    }\n\n    .dataframe tbody tr th {\n        vertical-align: top;\n    }\n\n    .dataframe thead th {\n        text-align: right;\n    }\n</style>\n<table border=\"1\" class=\"dataframe\">\n  <thead>\n    <tr style=\"text-align: right;\">\n      <th></th>\n      <th>Rank</th>\n      <th>University</th>\n      <th>Country</th>\n      <th>National Rank</th>\n      <th>TotalScore</th>\n      <th>Alumni</th>\n      <th>Award</th>\n      <th>HiCi</th>\n      <th>N&amp;S</th>\n      <th>PUB</th>\n      <th>PCP</th>\n      <th>Calculated Score</th>\n      <th>Calculated Rank</th>\n      <th>Subject</th>\n      <th>Top 100</th>\n      <th>Year</th>\n      <th>Schema</th>\n    </tr>\n  </thead>\n  <tbody>\n    <tr>\n      <th>0</th>\n      <td>1</td>\n      <td>Harvard University</td>\n      <td>USA</td>\n      <td>1.0</td>\n      <td>100.0</td>\n      <td>100.000000</td>\n      <td>100.000000</td>\n      <td>100.000000</td>\n      <td>100.000000</td>\n      <td>100.000000</td>\n      <td>79.300003</td>\n      <td>100.000000</td>\n      <td>1.0</td>\n      <td>World</td>\n      <td>True</td>\n      <td>2020</td>\n      <td>ARWU</td>\n    </tr>\n    <tr>\n      <th>1</th>\n      <td>2</td>\n      <td>Stanford University</td>\n      <td>USA</td>\n      <td>2.0</td>\n      <td>74.2</td>\n      <td>43.799999</td>\n      <td>86.599998</td>\n      <td>71.099998</td>\n      <td>79.500000</td>\n      <td>77.099998</td>\n      <td>53.799999</td>\n      <td>74.155007</td>\n      <td>2.0</td>\n      <td>World</td>\n      <td>True</td>\n      <td>2020</td>\n      <td>ARWU</td>\n    </tr>\n    <tr>\n      <th>2</th>\n      <td>3</td>\n      <td>University of Cambridge</td>\n      <td>UK</td>\n      <td>1.0</td>\n      <td>70.6</td>\n      <td>79.500000</td>\n      <td>98.199997</td>\n      <td>50.000000</td>\n      <td>57.099998</td>\n      <td>72.000000</td>\n      <td>57.500000</td>\n      <td>70.621872</td>\n      <td>3.0</td>\n      <td>World</td>\n      <td>True</td>\n      <td>2020</td>\n      <td>ARWU</td>\n    </tr>\n    <tr>\n      <th>3</th>\n      <td>4</td>\n      <td>Massachusetts Institute of Technology (MIT)</td>\n      <td>USA</td>\n      <td>3.0</td>\n      <td>69.6</td>\n      <td>71.400002</td>\n      <td>85.099998</td>\n      <td>51.400002</td>\n      <td>69.800003</td>\n      <td>63.700001</td>\n      <td>69.699997</td>\n      <td>69.549679</td>\n      <td>4.0</td>\n      <td>World</td>\n      <td>True</td>\n      <td>2020</td>\n      <td>ARWU</td>\n    </tr>\n    <tr>\n      <th>4</th>\n      <td>5</td>\n      <td>University of California, Berkeley</td>\n      <td>USA</td>\n      <td>4.0</td>\n      <td>65.8</td>\n      <td>64.900002</td>\n      <td>76.699997</td>\n      <td>53.299999</td>\n      <td>68.500000</td>\n      <td>63.400002</td>\n      <td>56.000000</td>\n      <td>65.832737</td>\n      <td>5.0</td>\n      <td>World</td>\n      <td>True</td>\n      <td>2020</td>\n      <td>ARWU</td>\n    </tr>\n    <tr>\n      <th>5</th>\n      <td>6</td>\n      <td>Princeton University</td>\n      <td>USA</td>\n      <td>5.0</td>\n      <td>61.1</td>\n      <td>59.000000</td>\n      <td>97.900002</td>\n      <td>41.400002</td>\n      <td>49.900002</td>\n      <td>44.700001</td>\n      <td>71.800003</td>\n      <td>61.125295</td>\n      <td>6.0</td>\n      <td>World</td>\n      <td>True</td>\n      <td>2020</td>\n      <td>ARWU</td>\n    </tr>\n    <tr>\n      <th>6</th>\n      <td>7</td>\n      <td>Columbia University</td>\n      <td>USA</td>\n      <td>6.0</td>\n      <td>58.6</td>\n      <td>59.500000</td>\n      <td>65.800003</td>\n      <td>48.000000</td>\n      <td>54.799999</td>\n      <td>72.300003</td>\n      <td>32.900002</td>\n      <td>58.633719</td>\n      <td>7.0</td>\n      <td>World</td>\n      <td>True</td>\n      <td>2020</td>\n      <td>ARWU</td>\n    </tr>\n    <tr>\n      <th>7</th>\n      <td>8</td>\n      <td>California Institute of Technology</td>\n      <td>USA</td>\n      <td>7.0</td>\n      <td>57.7</td>\n      <td>50.700001</td>\n      <td>69.099998</td>\n      <td>36.400002</td>\n      <td>57.900002</td>\n      <td>43.900002</td>\n      <td>100.000000</td>\n      <td>57.724906</td>\n      <td>8.0</td>\n      <td>World</td>\n      <td>True</td>\n      <td>2020</td>\n      <td>ARWU</td>\n    </tr>\n    <tr>\n      <th>8</th>\n      <td>9</td>\n      <td>University of Oxford</td>\n      <td>UK</td>\n      <td>2.0</td>\n      <td>57.2</td>\n      <td>48.900002</td>\n      <td>54.299999</td>\n      <td>46.400002</td>\n      <td>53.900002</td>\n      <td>78.900002</td>\n      <td>43.700001</td>\n      <td>57.142858</td>\n      <td>9.0</td>\n      <td>World</td>\n      <td>True</td>\n      <td>2020</td>\n      <td>ARWU</td>\n    </tr>\n    <tr>\n      <th>9</th>\n      <td>10</td>\n      <td>University of Chicago</td>\n      <td>USA</td>\n      <td>8.0</td>\n      <td>54.6</td>\n      <td>58.700001</td>\n      <td>88.199997</td>\n      <td>35.700001</td>\n      <td>41.299999</td>\n      <td>51.599998</td>\n      <td>43.000000</td>\n      <td>54.661492</td>\n      <td>10.0</td>\n      <td>World</td>\n      <td>True</td>\n      <td>2020</td>\n      <td>ARWU</td>\n    </tr>\n  </tbody>\n</table>\n</div>"
     },
     "metadata": {},
     "output_type": "display_data"
    },
    {
     "data": {
      "text/plain": "  Rank                                   University         Country  \\\n0    1                      Paris-Saclay University          France   \n1    2                         Princeton University   United States   \n2    3                          Sorbonne University          France   \n3    4                          Stanford University   United States   \n4    5                      University of Cambridge  United Kingdom   \n5    6  Massachusetts Institute of Technology (MIT)   United States   \n6    7                         University of Oxford  United Kingdom   \n7    8                          New York University   United States   \n8    9                                   ETH Zurich     Switzerland   \n9   10                               PSL University          France   \n\n  TotalScore         PUB       CNCI         IC         TOP       Award  \\\n0      362.9   87.000000  73.599998  72.699997   87.800003  100.000000   \n1      354.3   71.400002  88.900002  64.400002  100.000000   81.199997   \n2      308.3  100.000000  72.000000  72.599998   95.599998   26.100000   \n3      301.6   66.099998  90.800003  63.299999   89.400002   42.599998   \n4      301.4   63.200001  88.800003  77.099998   73.699997   60.299999   \n5      293.5   80.000000  85.199997  64.000000   89.400002   26.100000   \n6      292.3   78.199997  75.599998  76.000000   75.599998   47.700001   \n7      288.4   62.000000  94.000000  68.199997   58.599998   60.299999   \n8      271.9   71.300003  78.400002  81.300003   63.200001   42.599998   \n9      269.8   72.199997  83.199997  72.800003   69.699997   30.200001   \n\n   Calculated Score  Calculated Rank      Subject  National Rank  Top 100  \\\n0        362.940001              1.0  Mathematics            1.0     True   \n1        354.380000              2.0  Mathematics            1.0     True   \n2        308.219999              3.0  Mathematics            2.0     True   \n3        301.560001              4.0  Mathematics            2.0     True   \n4        301.420000              5.0  Mathematics            1.0     True   \n5        293.499999              6.0  Mathematics            3.0     True   \n6        292.299995              7.0  Mathematics            2.0     True   \n7        288.539997              8.0  Mathematics            4.0     True   \n8        271.760004              9.0  Mathematics            1.0     True   \n9        269.859992             10.0  Mathematics            3.0     True   \n\n   Year Schema  \n0  2020   ARWU  \n1  2020   ARWU  \n2  2020   ARWU  \n3  2020   ARWU  \n4  2020   ARWU  \n5  2020   ARWU  \n6  2020   ARWU  \n7  2020   ARWU  \n8  2020   ARWU  \n9  2020   ARWU  ",
      "text/html": "<div>\n<style scoped>\n    .dataframe tbody tr th:only-of-type {\n        vertical-align: middle;\n    }\n\n    .dataframe tbody tr th {\n        vertical-align: top;\n    }\n\n    .dataframe thead th {\n        text-align: right;\n    }\n</style>\n<table border=\"1\" class=\"dataframe\">\n  <thead>\n    <tr style=\"text-align: right;\">\n      <th></th>\n      <th>Rank</th>\n      <th>University</th>\n      <th>Country</th>\n      <th>TotalScore</th>\n      <th>PUB</th>\n      <th>CNCI</th>\n      <th>IC</th>\n      <th>TOP</th>\n      <th>Award</th>\n      <th>Calculated Score</th>\n      <th>Calculated Rank</th>\n      <th>Subject</th>\n      <th>National Rank</th>\n      <th>Top 100</th>\n      <th>Year</th>\n      <th>Schema</th>\n    </tr>\n  </thead>\n  <tbody>\n    <tr>\n      <th>0</th>\n      <td>1</td>\n      <td>Paris-Saclay University</td>\n      <td>France</td>\n      <td>362.9</td>\n      <td>87.000000</td>\n      <td>73.599998</td>\n      <td>72.699997</td>\n      <td>87.800003</td>\n      <td>100.000000</td>\n      <td>362.940001</td>\n      <td>1.0</td>\n      <td>Mathematics</td>\n      <td>1.0</td>\n      <td>True</td>\n      <td>2020</td>\n      <td>ARWU</td>\n    </tr>\n    <tr>\n      <th>1</th>\n      <td>2</td>\n      <td>Princeton University</td>\n      <td>United States</td>\n      <td>354.3</td>\n      <td>71.400002</td>\n      <td>88.900002</td>\n      <td>64.400002</td>\n      <td>100.000000</td>\n      <td>81.199997</td>\n      <td>354.380000</td>\n      <td>2.0</td>\n      <td>Mathematics</td>\n      <td>1.0</td>\n      <td>True</td>\n      <td>2020</td>\n      <td>ARWU</td>\n    </tr>\n    <tr>\n      <th>2</th>\n      <td>3</td>\n      <td>Sorbonne University</td>\n      <td>France</td>\n      <td>308.3</td>\n      <td>100.000000</td>\n      <td>72.000000</td>\n      <td>72.599998</td>\n      <td>95.599998</td>\n      <td>26.100000</td>\n      <td>308.219999</td>\n      <td>3.0</td>\n      <td>Mathematics</td>\n      <td>2.0</td>\n      <td>True</td>\n      <td>2020</td>\n      <td>ARWU</td>\n    </tr>\n    <tr>\n      <th>3</th>\n      <td>4</td>\n      <td>Stanford University</td>\n      <td>United States</td>\n      <td>301.6</td>\n      <td>66.099998</td>\n      <td>90.800003</td>\n      <td>63.299999</td>\n      <td>89.400002</td>\n      <td>42.599998</td>\n      <td>301.560001</td>\n      <td>4.0</td>\n      <td>Mathematics</td>\n      <td>2.0</td>\n      <td>True</td>\n      <td>2020</td>\n      <td>ARWU</td>\n    </tr>\n    <tr>\n      <th>4</th>\n      <td>5</td>\n      <td>University of Cambridge</td>\n      <td>United Kingdom</td>\n      <td>301.4</td>\n      <td>63.200001</td>\n      <td>88.800003</td>\n      <td>77.099998</td>\n      <td>73.699997</td>\n      <td>60.299999</td>\n      <td>301.420000</td>\n      <td>5.0</td>\n      <td>Mathematics</td>\n      <td>1.0</td>\n      <td>True</td>\n      <td>2020</td>\n      <td>ARWU</td>\n    </tr>\n    <tr>\n      <th>5</th>\n      <td>6</td>\n      <td>Massachusetts Institute of Technology (MIT)</td>\n      <td>United States</td>\n      <td>293.5</td>\n      <td>80.000000</td>\n      <td>85.199997</td>\n      <td>64.000000</td>\n      <td>89.400002</td>\n      <td>26.100000</td>\n      <td>293.499999</td>\n      <td>6.0</td>\n      <td>Mathematics</td>\n      <td>3.0</td>\n      <td>True</td>\n      <td>2020</td>\n      <td>ARWU</td>\n    </tr>\n    <tr>\n      <th>6</th>\n      <td>7</td>\n      <td>University of Oxford</td>\n      <td>United Kingdom</td>\n      <td>292.3</td>\n      <td>78.199997</td>\n      <td>75.599998</td>\n      <td>76.000000</td>\n      <td>75.599998</td>\n      <td>47.700001</td>\n      <td>292.299995</td>\n      <td>7.0</td>\n      <td>Mathematics</td>\n      <td>2.0</td>\n      <td>True</td>\n      <td>2020</td>\n      <td>ARWU</td>\n    </tr>\n    <tr>\n      <th>7</th>\n      <td>8</td>\n      <td>New York University</td>\n      <td>United States</td>\n      <td>288.4</td>\n      <td>62.000000</td>\n      <td>94.000000</td>\n      <td>68.199997</td>\n      <td>58.599998</td>\n      <td>60.299999</td>\n      <td>288.539997</td>\n      <td>8.0</td>\n      <td>Mathematics</td>\n      <td>4.0</td>\n      <td>True</td>\n      <td>2020</td>\n      <td>ARWU</td>\n    </tr>\n    <tr>\n      <th>8</th>\n      <td>9</td>\n      <td>ETH Zurich</td>\n      <td>Switzerland</td>\n      <td>271.9</td>\n      <td>71.300003</td>\n      <td>78.400002</td>\n      <td>81.300003</td>\n      <td>63.200001</td>\n      <td>42.599998</td>\n      <td>271.760004</td>\n      <td>9.0</td>\n      <td>Mathematics</td>\n      <td>1.0</td>\n      <td>True</td>\n      <td>2020</td>\n      <td>ARWU</td>\n    </tr>\n    <tr>\n      <th>9</th>\n      <td>10</td>\n      <td>PSL University</td>\n      <td>France</td>\n      <td>269.8</td>\n      <td>72.199997</td>\n      <td>83.199997</td>\n      <td>72.800003</td>\n      <td>69.699997</td>\n      <td>30.200001</td>\n      <td>269.859992</td>\n      <td>10.0</td>\n      <td>Mathematics</td>\n      <td>3.0</td>\n      <td>True</td>\n      <td>2020</td>\n      <td>ARWU</td>\n    </tr>\n  </tbody>\n</table>\n</div>"
     },
     "metadata": {},
     "output_type": "display_data"
    }
   ],
   "source": [
    "df_ARWU, df_ARWU_subject = ARWU_rank(years=[2020])\n",
    "\n",
    "print('\\n === ARWU ===')\n",
    "display(df_ARWU.head(5))"
   ],
   "metadata": {
    "collapsed": false,
    "pycharm": {
     "name": "#%%\n"
    }
   }
  },
  {
   "cell_type": "code",
   "execution_count": 37,
   "outputs": [
    {
     "name": "stdout",
     "output_type": "stream",
     "text": [
      "\n",
      " === ARWU Subject Rankings ===\n"
     ]
    },
    {
     "data": {
      "text/plain": "  Rank               University         Country TotalScore         PUB  \\\n0    1  Paris-Saclay University          France      362.9   87.000000   \n1    2     Princeton University   United States      354.3   71.400002   \n2    3      Sorbonne University          France      308.3  100.000000   \n3    4      Stanford University   United States      301.6   66.099998   \n4    5  University of Cambridge  United Kingdom      301.4   63.200001   \n\n        CNCI         IC         TOP       Award  Calculated Score  \\\n0  73.599998  72.699997   87.800003  100.000000        362.940001   \n1  88.900002  64.400002  100.000000   81.199997        354.380000   \n2  72.000000  72.599998   95.599998   26.100000        308.219999   \n3  90.800003  63.299999   89.400002   42.599998        301.560001   \n4  88.800003  77.099998   73.699997   60.299999        301.420000   \n\n   Calculated Rank      Subject  National Rank  Top 100  Year Schema  \n0              1.0  Mathematics            1.0     True  2020   ARWU  \n1              2.0  Mathematics            1.0     True  2020   ARWU  \n2              3.0  Mathematics            2.0     True  2020   ARWU  \n3              4.0  Mathematics            2.0     True  2020   ARWU  \n4              5.0  Mathematics            1.0     True  2020   ARWU  ",
      "text/html": "<div>\n<style scoped>\n    .dataframe tbody tr th:only-of-type {\n        vertical-align: middle;\n    }\n\n    .dataframe tbody tr th {\n        vertical-align: top;\n    }\n\n    .dataframe thead th {\n        text-align: right;\n    }\n</style>\n<table border=\"1\" class=\"dataframe\">\n  <thead>\n    <tr style=\"text-align: right;\">\n      <th></th>\n      <th>Rank</th>\n      <th>University</th>\n      <th>Country</th>\n      <th>TotalScore</th>\n      <th>PUB</th>\n      <th>CNCI</th>\n      <th>IC</th>\n      <th>TOP</th>\n      <th>Award</th>\n      <th>Calculated Score</th>\n      <th>Calculated Rank</th>\n      <th>Subject</th>\n      <th>National Rank</th>\n      <th>Top 100</th>\n      <th>Year</th>\n      <th>Schema</th>\n    </tr>\n  </thead>\n  <tbody>\n    <tr>\n      <th>0</th>\n      <td>1</td>\n      <td>Paris-Saclay University</td>\n      <td>France</td>\n      <td>362.9</td>\n      <td>87.000000</td>\n      <td>73.599998</td>\n      <td>72.699997</td>\n      <td>87.800003</td>\n      <td>100.000000</td>\n      <td>362.940001</td>\n      <td>1.0</td>\n      <td>Mathematics</td>\n      <td>1.0</td>\n      <td>True</td>\n      <td>2020</td>\n      <td>ARWU</td>\n    </tr>\n    <tr>\n      <th>1</th>\n      <td>2</td>\n      <td>Princeton University</td>\n      <td>United States</td>\n      <td>354.3</td>\n      <td>71.400002</td>\n      <td>88.900002</td>\n      <td>64.400002</td>\n      <td>100.000000</td>\n      <td>81.199997</td>\n      <td>354.380000</td>\n      <td>2.0</td>\n      <td>Mathematics</td>\n      <td>1.0</td>\n      <td>True</td>\n      <td>2020</td>\n      <td>ARWU</td>\n    </tr>\n    <tr>\n      <th>2</th>\n      <td>3</td>\n      <td>Sorbonne University</td>\n      <td>France</td>\n      <td>308.3</td>\n      <td>100.000000</td>\n      <td>72.000000</td>\n      <td>72.599998</td>\n      <td>95.599998</td>\n      <td>26.100000</td>\n      <td>308.219999</td>\n      <td>3.0</td>\n      <td>Mathematics</td>\n      <td>2.0</td>\n      <td>True</td>\n      <td>2020</td>\n      <td>ARWU</td>\n    </tr>\n    <tr>\n      <th>3</th>\n      <td>4</td>\n      <td>Stanford University</td>\n      <td>United States</td>\n      <td>301.6</td>\n      <td>66.099998</td>\n      <td>90.800003</td>\n      <td>63.299999</td>\n      <td>89.400002</td>\n      <td>42.599998</td>\n      <td>301.560001</td>\n      <td>4.0</td>\n      <td>Mathematics</td>\n      <td>2.0</td>\n      <td>True</td>\n      <td>2020</td>\n      <td>ARWU</td>\n    </tr>\n    <tr>\n      <th>4</th>\n      <td>5</td>\n      <td>University of Cambridge</td>\n      <td>United Kingdom</td>\n      <td>301.4</td>\n      <td>63.200001</td>\n      <td>88.800003</td>\n      <td>77.099998</td>\n      <td>73.699997</td>\n      <td>60.299999</td>\n      <td>301.420000</td>\n      <td>5.0</td>\n      <td>Mathematics</td>\n      <td>1.0</td>\n      <td>True</td>\n      <td>2020</td>\n      <td>ARWU</td>\n    </tr>\n  </tbody>\n</table>\n</div>"
     },
     "metadata": {},
     "output_type": "display_data"
    }
   ],
   "source": [
    "print('\\n === ARWU Subject Rankings ===')\n",
    "\n",
    "display(df_ARWU_subject.head(5))\n"
   ],
   "metadata": {
    "collapsed": false,
    "pycharm": {
     "name": "#%%\n"
    }
   }
  },
  {
   "cell_type": "markdown",
   "source": [
    "## QS World University Rankings\n",
    "[QS](https://www.topuniversities.com) adopted a similar as the Times Higher Education. We therefore use ajax based extraction to\n",
    "extract data for both world and subject rankings. The weightings for the calculated rank are extracted from\n",
    "[QS intelligence unit](http://www.iu.qs.com)."
   ],
   "metadata": {
    "collapsed": false
   }
  },
  {
   "cell_type": "code",
   "execution_count": null,
   "outputs": [],
   "source": [
    "#Define QS subject and world rank scraping function\n",
    "\n",
    "def fetch_QS(rank= None, year = None, weightings = weightings['weightings_qs']):\n",
    "    \"\"\"Scrape QS Subject Page\n",
    "    \"\"\"\n",
    "    with requests.Session() as session:\n",
    "        if \"world\" in rank:\n",
    "            url = \"https://www.topuniversities.com/university-rankings/world-university-rankings/\"+ str(year)\n",
    "        else:\n",
    "            url = \"https://www.topuniversities.com/university-rankings/university-subject-rankings/\"+ str(year) +\"/\"+ rank\n",
    "\n",
    "        session.get(url)\n",
    "        r = session.post(url,headers={\"Content-Type\": \"application/x-www-form-urlencoded; charset=UTF-8\",\n",
    "                                  'X-Requested-With': 'XMLHttpRequest'})\n",
    "        soup = BeautifulSoup(r.content, \"lxml\")\n",
    "        scripts = soup.find_all('script')\n",
    "        for script in scripts:\n",
    "            try:\n",
    "                if \"jQuery.extend\" in script.contents[0] :\n",
    "                    jsonStr = script.contents[0].split('jQuery.extend(Drupal.settings,')[1]\n",
    "                    jsonStr = jsonStr.rsplit(');', 1)[0]\n",
    "                    jsonObj = json.loads(jsonStr)\n",
    "                    url2 = jsonObj['qs_rankings_datatables']['rank_indicators_url']\n",
    "            except:\n",
    "                pass\n",
    "\n",
    "    req2 = urllib.request.Request(url2, headers={'User-Agent': 'Mozilla/5.0'})\n",
    "    with urllib.request.urlopen(req2) as url:\n",
    "        indicator_data = json.loads(url.read().decode())\n",
    "\n",
    "    columns  = pd.DataFrame(indicator_data['columns'])\n",
    "    rank_data =  pd.DataFrame(indicator_data['data'])\n",
    "\n",
    "    for index,row in rank_data.iterrows():\n",
    "        rank_data.iloc[index] = [strip_tags(item) for item in row]\n",
    "    if \"world\" in rank:\n",
    "        rank_data.columns = ['region', 'Country', 'Rank', 'overall_rank_dis', 'University',\n",
    "           'TotalScore', 'stars', 'Academic', '3791742_rank_d', '3791742_rank',\n",
    "           'Employer', '3791741_rank_d', '3791741_rank', 'Faculty Student',\n",
    "           '3791740_rank_d', '3791740_rank', 'Citation', '3791737_rank_d',\n",
    "           '3791737_rank', 'International Faculty', '3791739_rank_d', '3791739_rank', 'International Student',\n",
    "           '3791738_rank_d', '3791738_rank', '', '_rank_d', '_rank']\n",
    "        rank_data = rank_data[['Country', 'Rank',  'University', 'TotalScore',  'Academic',  'Employer','Faculty Student',\n",
    "        'Citation', 'International Faculty', 'International Student']]\n",
    "    else:\n",
    "        try:\n",
    "            rank_data.columns = ['region', 'Country', 'Rank', 'overall_rank_dis', 'University',\n",
    "                                 'TotalScore', 'stars', 'Academic', '4280115_rank_d', '4280115_rank',\n",
    "                                 'Employer', '4280112_rank_d', '4280112_rank', 'h-index',\n",
    "                                 '4280113_rank_d', '4280113_rank', 'Citation', '4280114_rank_d',\n",
    "                                 '4280114_rank']\n",
    "        except:\n",
    "            if rank == 'performing-arts':\n",
    "                rank_data.columns = ['region', 'Country', 'Rank', 'overall_rank_dis', 'University',\n",
    "                                     'TotalScore', 'stars', 'Academic', '4280115_rank_d', '4280115_rank',\n",
    "                                     'Employer', '4280112_rank_d', '4280112_rank']\n",
    "                rank_data['h-index'] = 0\n",
    "                rank_data['Citation'] = 0\n",
    "            elif rank == 'classics-ancient-history':\n",
    "                rank_data.columns = ['region', 'Country', 'Rank', 'overall_rank_dis', 'University',\n",
    "                                     'TotalScore', 'stars', 'Academic', '4280115_rank_d', '4280115_rank',\n",
    "                                     'Employer', '4280112_rank_d', '4280112_rank']\n",
    "                rank_data['h-index'] = 0\n",
    "                rank_data['Citation'] = 0\n",
    "            elif rank == 'english-language-literature':\n",
    "                rank_data.columns = ['region', 'Country', 'Rank', 'overall_rank_dis', 'University',\n",
    "                                     'TotalScore', 'stars', 'Academic', '4280115_rank_d', '4280115_rank',\n",
    "                                     'Employer', '4280112_rank_d', '4280112_rank', 'Citation', '4280114_rank_d',\n",
    "                                     '4280114_rank']\n",
    "                rank_data['h-index'] = 0\n",
    "            elif rank == 'hospitality':\n",
    "                rank_data.columns = ['region', 'Country', 'Rank', 'overall_rank_dis', 'University',\n",
    "                                     'TotalScore', 'stars', 'Academic', '4280115_rank_d', '4280115_rank',\n",
    "                                     'Employer', '4280112_rank_d', '4280112_rank', 'Citation', '4280114_rank_d',\n",
    "                                     '4280114_rank']\n",
    "                rank_data['h-index'] = 0\n",
    "            else:\n",
    "                pass\n",
    "\n",
    "        rank_data = rank_data[['Country', 'Rank', 'University', 'TotalScore', 'Academic', 'Employer', 'h-index', 'Citation']]\n",
    "\n",
    "    weightings.Subject = weightings.Subject.str.lower()\n",
    "    weightings.Subject = weightings.Subject.str.replace('.','-')\n",
    "    weightings = weightings[weightings.Subject==rank].reset_index(drop=True)\n",
    "    df = rank_data.copy()\n",
    "\n",
    "    df = df.replace('', 0, regex=True)\n",
    "\n",
    "    if \"world\" in rank:\n",
    "        df[[ 'Academic',  'Employer','Faculty Student',\n",
    "        'Citation', 'International Faculty', 'International Student']] = \\\n",
    "            df[[ 'Academic',  'Employer','Faculty Student',\n",
    "        'Citation', 'International Faculty', 'International Student']].astype('float32')\n",
    "\n",
    "        df['Calculated Score'] = np.sum(np.multiply(df[['Academic',  'Employer','Faculty Student', 'Citation', 'International Faculty', 'International Student']],\n",
    "                                 weightings[['Academic',  'Employer','Faculty Student', 'Citation', 'International Faculty', 'International Student']]),1)\n",
    "        df['Calculated Score'] = 100 / np.max(df['Calculated Score']) * df['Calculated Score']\n",
    "    else:\n",
    "        df[['Academic', 'Employer', 'h-index', 'Citation']] =  df[['Academic', 'Employer', 'h-index', 'Citation']].astype('float32')\n",
    "        df['Calculated Score'] = np.sum(np.multiply(df[['Academic', 'Employer', 'h-index', 'Citation']],\n",
    "                                                    weightings[['Academic', 'Employer', 'h-index', 'Citation']]), 1)\n",
    "\n",
    "\n",
    "    df['Calculated Rank'] = df['Calculated Score'].rank(method ='min',ascending = False)\n",
    "    df['Subject'] =  rank.replace('.',' ')\n",
    "\n",
    "    df['National Rank'] = df.groupby('Country')['Calculated Score'].rank(method ='min',ascending = False)\n",
    "    df['Top 100'] = df['Calculated Rank'] <= 100\n",
    "    df['Year'] = year-1\n",
    "\n",
    "    return df\n",
    "\n",
    "def QS_rank(years=None, ranks=None):\n",
    "\n",
    "    df_QS = pd.DataFrame()\n",
    "    for year in tqdm(years):\n",
    "        for rank in ranks:\n",
    "            try:\n",
    "                df_QS = df_QS.append(fetch_QS(rank=rank, year=year))\n",
    "            except:\n",
    "                print(year, rank)\n",
    "    df_QS['Schema'] = 'QS'\n",
    "    return df_QS"
   ],
   "metadata": {
    "collapsed": false,
    "pycharm": {
     "name": "#%%\n"
    }
   }
  },
  {
   "cell_type": "code",
   "execution_count": null,
   "outputs": [],
   "source": [
    "years = [2020]\n",
    "df_QS = QS_rank(years = years, ranks = ranks)\n",
    "ranks=['world-university-rankings','classics-ancient-history']\n"
   ],
   "metadata": {
    "collapsed": false,
    "pycharm": {
     "name": "#%%\n"
    }
   }
  },
  {
   "cell_type": "code",
   "execution_count": null,
   "outputs": [],
   "source": [
    "print('\\n === QS World and Subject Rankings ===')\n",
    "display(df_QS[df_QS.Subject== 'world-university-rankings'].head(5))\n",
    "\n",
    "display(df_QS[df_QS.Subject== 'classics-ancient-history'].head(5))\n",
    "\n",
    "\n"
   ],
   "metadata": {
    "collapsed": false,
    "pycharm": {
     "name": "#%%\n"
    }
   }
  }
 ],
 "metadata": {
  "kernelspec": {
   "name": "python3",
   "language": "python",
   "display_name": "Python 3"
  },
  "language_info": {
   "codemirror_mode": {
    "name": "ipython",
    "version": 2
   },
   "file_extension": ".py",
   "mimetype": "text/x-python",
   "name": "python",
   "nbconvert_exporter": "python",
   "pygments_lexer": "ipython2",
   "version": "2.7.12"
  }
 },
 "nbformat": 4,
 "nbformat_minor": 1
}